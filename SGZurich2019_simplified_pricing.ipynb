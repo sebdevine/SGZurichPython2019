{
 "cells": [
  {
   "cell_type": "markdown",
   "metadata": {},
   "source": [
    "# Market data / pricing \n",
    "\n",
    "**Simplified example**\n",
    "\n",
    "- We use Alpha Vanteage API : [link](https://www.alphavantage.co/support/#api-key)\n",
    "- Please create another key because it's limited in use, if anyone uses the same key => some will wait\n",
    "\n",
    "**Packages needed**\n",
    "- [alpha_vantage](https://github.com/RomelTorres/alpha_vantage) (pip)\n",
    "- [pandas_datareader](https://pandas-datareader.readthedocs.io/en/latest/remote_data.html#fred) (pip)\n",
    "\n",
    "\n",
    "## Stock quotes"
   ]
  },
  {
   "cell_type": "code",
   "execution_count": 36,
   "metadata": {},
   "outputs": [],
   "source": [
    "from alpha_vantage.timeseries import TimeSeries\n",
    "\n",
    "my_key = \"QKFAWIESWQNEPHW7\"\n",
    "\n",
    "ts = TimeSeries(key=my_key,output_format='pandas', indexing_type='date')\n",
    "\n",
    "data, meta_data = ts.get_intraday('GOOGL', outputsize='full')"
   ]
  },
  {
   "cell_type": "markdown",
   "metadata": {},
   "source": [
    "Intraday quotes"
   ]
  },
  {
   "cell_type": "code",
   "execution_count": 47,
   "metadata": {},
   "outputs": [
    {
     "data": {
      "text/html": [
       "<div>\n",
       "<style scoped>\n",
       "    .dataframe tbody tr th:only-of-type {\n",
       "        vertical-align: middle;\n",
       "    }\n",
       "\n",
       "    .dataframe tbody tr th {\n",
       "        vertical-align: top;\n",
       "    }\n",
       "\n",
       "    .dataframe thead th {\n",
       "        text-align: right;\n",
       "    }\n",
       "</style>\n",
       "<table border=\"1\" class=\"dataframe\">\n",
       "  <thead>\n",
       "    <tr style=\"text-align: right;\">\n",
       "      <th></th>\n",
       "      <th>1. open</th>\n",
       "      <th>2. high</th>\n",
       "      <th>3. low</th>\n",
       "      <th>4. close</th>\n",
       "      <th>5. volume</th>\n",
       "    </tr>\n",
       "    <tr>\n",
       "      <th>date</th>\n",
       "      <th></th>\n",
       "      <th></th>\n",
       "      <th></th>\n",
       "      <th></th>\n",
       "      <th></th>\n",
       "    </tr>\n",
       "  </thead>\n",
       "  <tbody>\n",
       "    <tr>\n",
       "      <th>2019-02-04 10:45:00</th>\n",
       "      <td>1130.4301</td>\n",
       "      <td>1134.4900</td>\n",
       "      <td>1130.4301</td>\n",
       "      <td>1134.4900</td>\n",
       "      <td>81481.0</td>\n",
       "    </tr>\n",
       "    <tr>\n",
       "      <th>2019-02-04 11:00:00</th>\n",
       "      <td>1134.6100</td>\n",
       "      <td>1136.5699</td>\n",
       "      <td>1134.3800</td>\n",
       "      <td>1135.8000</td>\n",
       "      <td>76201.0</td>\n",
       "    </tr>\n",
       "    <tr>\n",
       "      <th>2019-02-04 11:15:00</th>\n",
       "      <td>1136.0050</td>\n",
       "      <td>1140.0000</td>\n",
       "      <td>1135.7100</td>\n",
       "      <td>1139.1801</td>\n",
       "      <td>96084.0</td>\n",
       "    </tr>\n",
       "    <tr>\n",
       "      <th>2019-02-04 11:30:00</th>\n",
       "      <td>1138.4100</td>\n",
       "      <td>1140.9399</td>\n",
       "      <td>1136.9100</td>\n",
       "      <td>1136.9250</td>\n",
       "      <td>79628.0</td>\n",
       "    </tr>\n",
       "    <tr>\n",
       "      <th>2019-02-04 11:45:00</th>\n",
       "      <td>1137.6799</td>\n",
       "      <td>1137.6974</td>\n",
       "      <td>1133.5901</td>\n",
       "      <td>1133.5901</td>\n",
       "      <td>55582.0</td>\n",
       "    </tr>\n",
       "  </tbody>\n",
       "</table>\n",
       "</div>"
      ],
      "text/plain": [
       "                       1. open    2. high     3. low   4. close  5. volume\n",
       "date                                                                      \n",
       "2019-02-04 10:45:00  1130.4301  1134.4900  1130.4301  1134.4900    81481.0\n",
       "2019-02-04 11:00:00  1134.6100  1136.5699  1134.3800  1135.8000    76201.0\n",
       "2019-02-04 11:15:00  1136.0050  1140.0000  1135.7100  1139.1801    96084.0\n",
       "2019-02-04 11:30:00  1138.4100  1140.9399  1136.9100  1136.9250    79628.0\n",
       "2019-02-04 11:45:00  1137.6799  1137.6974  1133.5901  1133.5901    55582.0"
      ]
     },
     "execution_count": 47,
     "metadata": {},
     "output_type": "execute_result"
    }
   ],
   "source": [
    "data.tail(5)"
   ]
  },
  {
   "cell_type": "markdown",
   "metadata": {},
   "source": [
    "Last date"
   ]
  },
  {
   "cell_type": "code",
   "execution_count": 48,
   "metadata": {},
   "outputs": [
    {
     "data": {
      "text/plain": [
       "'2019-02-04 11:45:00'"
      ]
     },
     "execution_count": 48,
     "metadata": {},
     "output_type": "execute_result"
    }
   ],
   "source": [
    "data.index[-1]"
   ]
  },
  {
   "cell_type": "markdown",
   "metadata": {},
   "source": [
    "Get the \"close\" at the latest date-time"
   ]
  },
  {
   "cell_type": "code",
   "execution_count": 50,
   "metadata": {
    "scrolled": false
   },
   "outputs": [
    {
     "data": {
      "text/plain": [
       "1133.5901"
      ]
     },
     "execution_count": 50,
     "metadata": {},
     "output_type": "execute_result"
    }
   ],
   "source": [
    "spot = data.loc[data.index[-1]:][\"4. close\"].values[0]\n",
    "\n",
    "spot"
   ]
  },
  {
   "cell_type": "code",
   "execution_count": 77,
   "metadata": {},
   "outputs": [],
   "source": [
    "def get_spot(ticker):\n",
    "    data, _ = ts.get_intraday(ticker)\n",
    "    return data.loc[data.index[-1]:][\"4. close\"].values[0]"
   ]
  },
  {
   "cell_type": "code",
   "execution_count": 81,
   "metadata": {},
   "outputs": [
    {
     "data": {
      "text/plain": [
       "171.07"
      ]
     },
     "execution_count": 81,
     "metadata": {},
     "output_type": "execute_result"
    }
   ],
   "source": [
    "get_spot(\"AAPL\")"
   ]
  },
  {
   "cell_type": "markdown",
   "metadata": {},
   "source": [
    "## Fed funds"
   ]
  },
  {
   "cell_type": "code",
   "execution_count": 51,
   "metadata": {},
   "outputs": [],
   "source": [
    "from pandas_datareader import data as pdr\n",
    "\n",
    "\n",
    "fedfunds = pdr.FredReader(\"FEDFUNDS\", start, end).read().sort_index()\n",
    "fedfunds /= 100"
   ]
  },
  {
   "cell_type": "code",
   "execution_count": 52,
   "metadata": {},
   "outputs": [
    {
     "data": {
      "text/html": [
       "<div>\n",
       "<style scoped>\n",
       "    .dataframe tbody tr th:only-of-type {\n",
       "        vertical-align: middle;\n",
       "    }\n",
       "\n",
       "    .dataframe tbody tr th {\n",
       "        vertical-align: top;\n",
       "    }\n",
       "\n",
       "    .dataframe thead th {\n",
       "        text-align: right;\n",
       "    }\n",
       "</style>\n",
       "<table border=\"1\" class=\"dataframe\">\n",
       "  <thead>\n",
       "    <tr style=\"text-align: right;\">\n",
       "      <th></th>\n",
       "      <th>FEDFUNDS</th>\n",
       "    </tr>\n",
       "    <tr>\n",
       "      <th>DATE</th>\n",
       "      <th></th>\n",
       "    </tr>\n",
       "  </thead>\n",
       "  <tbody>\n",
       "    <tr>\n",
       "      <th>2018-02-01</th>\n",
       "      <td>0.0142</td>\n",
       "    </tr>\n",
       "    <tr>\n",
       "      <th>2018-03-01</th>\n",
       "      <td>0.0151</td>\n",
       "    </tr>\n",
       "    <tr>\n",
       "      <th>2018-04-01</th>\n",
       "      <td>0.0169</td>\n",
       "    </tr>\n",
       "    <tr>\n",
       "      <th>2018-05-01</th>\n",
       "      <td>0.0170</td>\n",
       "    </tr>\n",
       "    <tr>\n",
       "      <th>2018-06-01</th>\n",
       "      <td>0.0182</td>\n",
       "    </tr>\n",
       "    <tr>\n",
       "      <th>2018-07-01</th>\n",
       "      <td>0.0191</td>\n",
       "    </tr>\n",
       "    <tr>\n",
       "      <th>2018-08-01</th>\n",
       "      <td>0.0191</td>\n",
       "    </tr>\n",
       "    <tr>\n",
       "      <th>2018-09-01</th>\n",
       "      <td>0.0195</td>\n",
       "    </tr>\n",
       "    <tr>\n",
       "      <th>2018-10-01</th>\n",
       "      <td>0.0219</td>\n",
       "    </tr>\n",
       "    <tr>\n",
       "      <th>2018-11-01</th>\n",
       "      <td>0.0220</td>\n",
       "    </tr>\n",
       "    <tr>\n",
       "      <th>2018-12-01</th>\n",
       "      <td>0.0227</td>\n",
       "    </tr>\n",
       "    <tr>\n",
       "      <th>2019-01-01</th>\n",
       "      <td>0.0240</td>\n",
       "    </tr>\n",
       "  </tbody>\n",
       "</table>\n",
       "</div>"
      ],
      "text/plain": [
       "            FEDFUNDS\n",
       "DATE                \n",
       "2018-02-01    0.0142\n",
       "2018-03-01    0.0151\n",
       "2018-04-01    0.0169\n",
       "2018-05-01    0.0170\n",
       "2018-06-01    0.0182\n",
       "2018-07-01    0.0191\n",
       "2018-08-01    0.0191\n",
       "2018-09-01    0.0195\n",
       "2018-10-01    0.0219\n",
       "2018-11-01    0.0220\n",
       "2018-12-01    0.0227\n",
       "2019-01-01    0.0240"
      ]
     },
     "execution_count": 52,
     "metadata": {},
     "output_type": "execute_result"
    }
   ],
   "source": [
    "fedfunds"
   ]
  },
  {
   "cell_type": "markdown",
   "metadata": {},
   "source": [
    "Last observed date"
   ]
  },
  {
   "cell_type": "code",
   "execution_count": 53,
   "metadata": {},
   "outputs": [
    {
     "data": {
      "text/plain": [
       "Timestamp('2019-01-01 00:00:00')"
      ]
     },
     "execution_count": 53,
     "metadata": {},
     "output_type": "execute_result"
    }
   ],
   "source": [
    "fedfunds.index[-1]"
   ]
  },
  {
   "cell_type": "code",
   "execution_count": 57,
   "metadata": {},
   "outputs": [
    {
     "data": {
      "text/plain": [
       "0.024"
      ]
     },
     "execution_count": 57,
     "metadata": {},
     "output_type": "execute_result"
    }
   ],
   "source": [
    "usd_rate = fedfunds.loc[fedfunds.index[-1], :].values[0]\n",
    "\n",
    "usd_rate"
   ]
  },
  {
   "cell_type": "code",
   "execution_count": null,
   "metadata": {},
   "outputs": [],
   "source": []
  },
  {
   "cell_type": "markdown",
   "metadata": {},
   "source": [
    "## Computation\n",
    "\n",
    "We will compute a forward $K$ : \n",
    "$$\n",
    "K = S_0.e^{r_{USD}.T}\n",
    "$$\n",
    "\n",
    "[reference](https://math.stackexchange.com/questions/1777111/forward-price-in-black-scholes-model)"
   ]
  },
  {
   "cell_type": "code",
   "execution_count": 82,
   "metadata": {},
   "outputs": [],
   "source": [
    "import math\n",
    "import pandas\n",
    "\n",
    "\n",
    "def bs_forward(s_0, r, t):\n",
    "    return s_0 * math.exp(r * t)"
   ]
  },
  {
   "cell_type": "code",
   "execution_count": 83,
   "metadata": {},
   "outputs": [
    {
     "data": {
      "text/plain": [
       "1203.6873969820087"
      ]
     },
     "execution_count": 83,
     "metadata": {},
     "output_type": "execute_result"
    }
   ],
   "source": [
    "T = 2.5  # years\n",
    "\n",
    "bs_forward(spot, usd_rate, T)"
   ]
  },
  {
   "cell_type": "code",
   "execution_count": 93,
   "metadata": {},
   "outputs": [],
   "source": [
    "def price_usd_forward(nominal, ticker, maturity):\n",
    "    \n",
    "    time_to_mat = (pandas.Timestamp(maturity) -  pandas.Timestamp.now()).days / 365.0\n",
    "    \n",
    "    spot = get_spot(ticker)\n",
    "    \n",
    "    num_shares = nominal / spot\n",
    "    \n",
    "    return num_shares *  bs_forward(spot, usd_rate, time_to_mat)"
   ]
  },
  {
   "cell_type": "code",
   "execution_count": 95,
   "metadata": {},
   "outputs": [
    {
     "data": {
      "text/plain": [
       "1022070.1578072651"
      ]
     },
     "execution_count": 95,
     "metadata": {},
     "output_type": "execute_result"
    }
   ],
   "source": [
    "p = price_usd_forward(1_000_000, \"AAPL\", \"2020-01-03\")\n",
    "\n",
    "p"
   ]
  },
  {
   "cell_type": "code",
   "execution_count": null,
   "metadata": {},
   "outputs": [],
   "source": []
  }
 ],
 "metadata": {
  "kernelspec": {
   "display_name": "Python 3",
   "language": "python",
   "name": "python3"
  },
  "language_info": {
   "codemirror_mode": {
    "name": "ipython",
    "version": 3
   },
   "file_extension": ".py",
   "mimetype": "text/x-python",
   "name": "python",
   "nbconvert_exporter": "python",
   "pygments_lexer": "ipython3",
   "version": "3.6.6"
  }
 },
 "nbformat": 4,
 "nbformat_minor": 2
}
